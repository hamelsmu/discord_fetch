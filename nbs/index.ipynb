{
 "cells": [
  {
   "cell_type": "raw",
   "metadata": {},
   "source": [
    "---\n",
    "skip_showdoc: true\n",
    "skip_exec: true\n",
    "---"
   ]
  },
  {
   "cell_type": "markdown",
   "metadata": {},
   "source": [
    "# Discord Fetch\n",
    "> A Python library and CLI tool for fetching complete Discord channel histories, including threads and reply hierarchies."
   ]
  },
  {
   "cell_type": "markdown",
   "metadata": {},
   "source": [
    "This library provides a simple way to export Discord channel conversations in both detailed and simplified formats, making it easy to analyze or process Discord community discussions."
   ]
  },
  {
   "cell_type": "markdown",
   "metadata": {},
   "source": [
    "## Installation\n",
    "\n",
    "Install from PyPI:\n",
    "\n",
    "```bash\n",
    "pip install discord_fetch\n",
    "```\n",
    "\n",
    "Or install in development mode:\n",
    "\n",
    "```bash\n",
    "git clone https://github.com/yourusername/discord_fetch.git\n",
    "cd discord_fetch\n",
    "pip install -e .\n",
    "```"
   ]
  },
  {
   "cell_type": "markdown",
   "metadata": {},
   "source": [
    "## Discord Bot Setup\n",
    "\n",
    "Before using this tool, you need to create a Discord bot and obtain a token:\n",
    "\n",
    "### 1. Create a Discord Application\n",
    "\n",
    "1. Go to the [Discord Developer Portal](https://discord.com/developers/applications)\n",
    "2. Click \"New Application\" and give it a name\n",
    "3. Navigate to the \"Bot\" section in the sidebar\n",
    "4. Click \"Add Bot\"\n",
    "5. Under the \"Token\" section, click \"Copy\" to get your bot token\n",
    "\n",
    "### 2. Required Bot Permissions\n",
    "\n",
    "Your bot needs the following permissions:\n",
    "- **View Channels** - To see the channels in the server\n",
    "- **Read Message History** - To fetch historical messages\n",
    "- **Read Messages/View Channels** - Basic read access\n",
    "\n",
    "### 3. Bot Scopes and OAuth2\n",
    "\n",
    "When inviting your bot to a server, use these scopes:\n",
    "- `bot` - Basic bot permissions\n",
    "- `applications.commands` (optional) - If you plan to add slash commands\n",
    "\n",
    "### 4. Invite the Bot to Your Server\n",
    "\n",
    "1. In the Discord Developer Portal, go to \"OAuth2\" > \"URL Generator\"\n",
    "2. Select the `bot` scope\n",
    "3. Select the required permissions listed above\n",
    "4. Copy the generated URL and open it in your browser\n",
    "5. Select the server you want to add the bot to\n",
    "\n",
    "### 5. Environment Setup\n",
    "\n",
    "Create this environment variable\n",
    "\n",
    "```env\n",
    "DISCORD_TOKEN=your_bot_token_here\n",
    "```"
   ]
  },
  {
   "cell_type": "markdown",
   "metadata": {},
   "source": [
    "## Getting Channel IDs\n",
    "\n",
    "To fetch messages from a channel, you need its Channel ID:\n",
    "\n",
    "1. Enable Developer Mode in Discord:\n",
    "   - Go to User Settings > Advanced > Developer Mode (toggle on)\n",
    "2. Right-click on any channel\n",
    "3. Select \"Copy Channel ID\"\n",
    "\n",
    "The Channel ID will be a long number like `1369370266899185746`."
   ]
  },
  {
   "cell_type": "markdown",
   "metadata": {},
   "source": [
    "## CLI Usage\n",
    "\n",
    "Once installed and configured, you can use the `fetch_discord_msgs` command:"
   ]
  },
  {
   "cell_type": "code",
   "execution_count": null,
   "metadata": {},
   "outputs": [],
   "source": [
    "#|hide\n",
    "from dotenv import load_dotenv\n",
    "load_dotenv()"
   ]
  },
  {
   "cell_type": "code",
   "execution_count": null,
   "metadata": {},
   "outputs": [
    {
     "name": "stdout",
     "output_type": "stream",
     "text": [
      "\u001b[1m                                                                                \u001b[0m\r\n",
      "\u001b[1m \u001b[0m\u001b[1;33mUsage: \u001b[0m\u001b[1mfetch_discord_msgs [OPTIONS] CHANNEL_ID\u001b[0m\u001b[1m                                \u001b[0m\u001b[1m \u001b[0m\r\n",
      "\u001b[1m                                                                                \u001b[0m\r\n",
      " Fetch all messages from a Discord channel including threads and reply          \r\n",
      " hierarchies.                                                                   \r\n",
      " \u001b[2mBy default, outputs simplified conversation data as JSON to stdout (suitable \u001b[0m  \r\n",
      " \u001b[2mfor piping). Use \u001b[0m\u001b[1;2;36m-\u001b[0m\u001b[1;2;36m-save\u001b[0m\u001b[1;2;36m-to-files\u001b[0m\u001b[2m to save both original and simplified data to \u001b[0m \r\n",
      " \u001b[2mfiles with summary output.\u001b[0m                                                     \r\n",
      " \u001b[2mExamples:     # Output simplified JSON to stdout     fetch_discord_msgs \u001b[0m       \r\n",
      " \u001b[2m1234567890123456789          # Save files and show summary     \u001b[0m                \r\n",
      " \u001b[2mfetch_discord_msgs 1234567890123456789 \u001b[0m\u001b[1;2;36m-\u001b[0m\u001b[1;2;36m-save\u001b[0m\u001b[1;2;36m-to-files\u001b[0m\u001b[2m          # Pipe \u001b[0m        \r\n",
      " \u001b[2msimplified data to another tool     fetch_discord_msgs 1234567890123456789 | \u001b[0m  \r\n",
      " \u001b[2mjq '.conversations[0]'\u001b[0m                                                         \r\n",
      " \u001b[2mArgs:     channel_id: Discord channel ID to fetch messages from     limit: \u001b[0m    \r\n",
      " \u001b[2mMaximum number of messages to fetch (None = all messages)     save_to_files: \u001b[0m  \r\n",
      " \u001b[2mSave both original and simplified data to files and print summary\u001b[0m              \r\n",
      "                                                                                \r\n",
      "\u001b[2m╭─\u001b[0m\u001b[2m Arguments \u001b[0m\u001b[2m─────────────────────────────────────────────────────────────────\u001b[0m\u001b[2m─╮\u001b[0m\r\n",
      "\u001b[2m│\u001b[0m \u001b[31m*\u001b[0m    channel_id      \u001b[1;33mINTEGER\u001b[0m  Discord channel ID to fetch messages from      \u001b[2m│\u001b[0m\r\n",
      "\u001b[2m│\u001b[0m                               \u001b[2m[default: None]                          \u001b[0m      \u001b[2m│\u001b[0m\r\n",
      "\u001b[2m│\u001b[0m                               \u001b[2;31m[required]                               \u001b[0m      \u001b[2m│\u001b[0m\r\n",
      "\u001b[2m╰──────────────────────────────────────────────────────────────────────────────╯\u001b[0m\r\n",
      "\u001b[2m╭─\u001b[0m\u001b[2m Options \u001b[0m\u001b[2m───────────────────────────────────────────────────────────────────\u001b[0m\u001b[2m─╮\u001b[0m\r\n",
      "\u001b[2m│\u001b[0m \u001b[1;36m-\u001b[0m\u001b[1;36m-limit\u001b[0m                \u001b[1;33mINTEGER\u001b[0m  Maximum number of messages to fetch          \u001b[2m│\u001b[0m\r\n",
      "\u001b[2m│\u001b[0m                                 \u001b[2m[default: None]                    \u001b[0m          \u001b[2m│\u001b[0m\r\n",
      "\u001b[2m│\u001b[0m \u001b[1;36m-\u001b[0m\u001b[1;36m-verbose\u001b[0m              \u001b[1;33m       \u001b[0m  Show detailed logs                           \u001b[2m│\u001b[0m\r\n",
      "\u001b[2m│\u001b[0m \u001b[1;36m-\u001b[0m\u001b[1;36m-save\u001b[0m\u001b[1;36m-to-files\u001b[0m        \u001b[1;33m       \u001b[0m  Save both original and simplified data to    \u001b[2m│\u001b[0m\r\n",
      "\u001b[2m│\u001b[0m                                 files and print summary                      \u001b[2m│\u001b[0m\r\n",
      "\u001b[2m│\u001b[0m \u001b[1;36m-\u001b[0m\u001b[1;36m-help\u001b[0m                 \u001b[1;33m       \u001b[0m  Show this message and exit.                  \u001b[2m│\u001b[0m\r\n",
      "\u001b[2m╰──────────────────────────────────────────────────────────────────────────────╯\u001b[0m\r\n",
      "\r\n"
     ]
    }
   ],
   "source": [
    "!fetch_discord_msgs --help"
   ]
  },
  {
   "cell_type": "markdown",
   "metadata": {},
   "source": [
    "### Basic Usage Examples\n",
    "\n",
    "```bash\n",
    "# Output simplified JSON to stdout (default behavior)\n",
    "fetch_discord_msgs 1369370266899185746\n",
    "\n",
    "# Save both original and simplified data to files with summary\n",
    "fetch_discord_msgs 1369370266899185746 --save-to-files\n",
    "\n",
    "# Show verbose output while saving to files\n",
    "fetch_discord_msgs 1369370266899185746 --save-to-files --verbose\n",
    "\n",
    "# Limit to last 100 messages and output to stdout\n",
    "fetch_discord_msgs 1369370266899185746 --limit 100\n",
    "\n",
    "# Pipe simplified data to another tool (like jq)\n",
    "fetch_discord_msgs 1369370266899185746 | jq '.conversations[0]'\n",
    "\n",
    "# Save to files and process specific conversations\n",
    "fetch_discord_msgs 1369370266899185746 --save-to-files | jq '.conversations[] | select(.replies | length > 5)'\n",
    "```"
   ]
  },
  {
   "cell_type": "markdown",
   "metadata": {},
   "source": [
    "## CLI Output Modes\n",
    "\n",
    "The CLI tool has two main output modes:\n",
    "\n",
    "### 1. Stdout Mode (Default)\n",
    "- Outputs simplified JSON directly to stdout\n",
    "- Perfect for piping to other tools (jq, etc.)\n",
    "- Minimal stderr output (only connection/error messages)\n",
    "- Use this for automation and data processing\n",
    "\n",
    "### 2. File Save Mode (`--save-to-files`)\n",
    "- Saves both original and simplified data to timestamped JSON files\n",
    "- Prints detailed summary to stderr\n",
    "- Use `--verbose` for additional logging details\n",
    "- Use this for archival and detailed analysis\n",
    "\n",
    "## Output Files\n",
    "\n",
    "When using `--save-to-files`, the tool generates two types of JSON files:\n",
    "\n",
    "### 1. Original Format (`discord_channel_*_TIMESTAMP.json`)\n",
    "- Complete message metadata (IDs, timestamps, reactions, etc.)\n",
    "- Full thread and reply hierarchies\n",
    "- All Discord-specific data preserved\n",
    "- Larger file size\n",
    "\n",
    "### 2. Simplified Format (`discord_simplified_*_TIMESTAMP.json`)\n",
    "- Conversation-focused structure\n",
    "- Removes metadata and IDs\n",
    "- Groups messages with their replies\n",
    "- ~75% smaller file size\n",
    "- Ideal for LLM processing\n",
    "\n",
    "## Python API\n",
    "\n",
    "You can also use the library programmatically:"
   ]
  },
  {
   "cell_type": "code",
   "execution_count": null,
   "metadata": {},
   "outputs": [],
   "source": [
    "#|hide\n",
    "# Use asyncio.create_task() to avoid event loop conflict in notebooks\n",
    "import nest_asyncio\n",
    "nest_asyncio.apply()"
   ]
  },
  {
   "cell_type": "code",
   "execution_count": null,
   "metadata": {},
   "outputs": [],
   "source": [
    "from discord_fetch.core import fetch_discord_msgs"
   ]
  },
  {
   "cell_type": "code",
   "execution_count": null,
   "metadata": {},
   "outputs": [
    {
     "name": "stderr",
     "output_type": "stream",
     "text": [
      "Connected as hamml#3190\n"
     ]
    },
    {
     "name": "stdout",
     "output_type": "stream",
     "text": [
      "Fetched 152 conversations\n"
     ]
    }
   ],
   "source": [
    "channel_id = 1369370266899185746\n",
    "original, simplified = await fetch_discord_msgs(\n",
    "    channel_id, \n",
    "    save_original=False,    # Don't save raw discord messages to file\n",
    "    save_simplified=False,  # Don't save simplified discord messages to file\n",
    "    print_summary=False     # Don't print verbose logs\n",
    ")\n",
    "\n",
    "print(f\"Fetched {len(simplified['conversations'])} conversations\")"
   ]
  },
  {
   "cell_type": "markdown",
   "metadata": {},
   "source": [
    "## Troubleshooting\n",
    "\n",
    "### Common Issues\n",
    "\n",
    "**\"Channel not found or no access\"**\n",
    "- Verify the Channel ID is correct\n",
    "- Ensure your bot is a member of the server\n",
    "- Check that the bot has \"View Channels\" permission\n",
    "\n",
    "**\"DISCORD_TOKEN env variable not found\"**\n",
    "- Make sure your `.env` file exists and contains `DISCORD_TOKEN=your_token`\n",
    "- Verify the `.env` file is in the correct directory\n",
    "\n",
    "**\"Could not fetch archived threads\"**\n",
    "- This is usually not critical - some archived threads may not be accessible\n",
    "- The main channel messages will still be fetched\n",
    "\n",
    "### Rate Limiting\n",
    "\n",
    "Discord has rate limits for API requests. For large channels:\n",
    "- The tool automatically handles rate limiting\n",
    "- Very large channels (>10k messages) may take several minutes\n",
    "- Consider using the `--limit` parameter for testing\n",
    "\n",
    "## Example"
   ]
  },
  {
   "cell_type": "code",
   "execution_count": null,
   "metadata": {},
   "outputs": [
    {
     "name": "stdout",
     "output_type": "stream",
     "text": [
      "Connected as hamml#3190\n",
      "\u001b[1;39m{\n",
      "  \u001b[0m\u001b[1;34m\"main_message\"\u001b[0m\u001b[1;39m: \u001b[0m\u001b[1;39m{\n",
      "    \u001b[0m\u001b[1;34m\"author\"\u001b[0m\u001b[1;39m: \u001b[0m\u001b[0;32m\"davidh5633\"\u001b[0m\u001b[1;39m,\n",
      "    \u001b[0m\u001b[1;34m\"content\"\u001b[0m\u001b[1;39m: \u001b[0m\u001b[0;32m\"Seems relevant to this course topic:\\n\\nEvaluation Driven Development for Agentic Systems\\nhttps://www.newsletter.swirlai.com/p/evaluation-driven-development-for?utm_source=tldrai\"\u001b[0m\u001b[1;39m\n",
      "  \u001b[1;39m}\u001b[0m\u001b[1;39m,\n",
      "  \u001b[0m\u001b[1;34m\"replies\"\u001b[0m\u001b[1;39m: \u001b[0m\u001b[1;39m[]\u001b[0m\u001b[1;39m\n",
      "\u001b[1;39m}\u001b[0m\n"
     ]
    }
   ],
   "source": [
    "!fetch_discord_msgs 1369370266899185746 | jq '.conversations[0]'"
   ]
  },
  {
   "cell_type": "code",
   "execution_count": null,
   "metadata": {},
   "outputs": [],
   "source": []
  }
 ],
 "metadata": {
  "kernelspec": {
   "display_name": "python3",
   "language": "python",
   "name": "python3"
  }
 },
 "nbformat": 4,
 "nbformat_minor": 4
}
